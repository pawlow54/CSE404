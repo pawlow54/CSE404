{
 "cells": [
  {
   "cell_type": "code",
   "execution_count": 6,
   "outputs": [
    {
     "name": "stdout",
     "output_type": "stream",
     "text": [
      "Epoch 1/20\n",
      "21/21 [==============================] - 2s 56ms/step - loss: 2.2848 - accuracy: 0.1471 - val_loss: 2.1487 - val_accuracy: 0.3242\n",
      "Epoch 2/20\n",
      "21/21 [==============================] - 1s 52ms/step - loss: 1.9572 - accuracy: 0.3116 - val_loss: 1.5181 - val_accuracy: 0.6212\n",
      "Epoch 3/20\n",
      "21/21 [==============================] - 1s 51ms/step - loss: 1.5060 - accuracy: 0.4860 - val_loss: 1.0813 - val_accuracy: 0.7242\n",
      "Epoch 4/20\n",
      "21/21 [==============================] - 1s 49ms/step - loss: 1.2090 - accuracy: 0.5625 - val_loss: 0.8977 - val_accuracy: 0.7636\n",
      "Epoch 5/20\n",
      "21/21 [==============================] - 1s 51ms/step - loss: 1.0388 - accuracy: 0.6399 - val_loss: 0.7005 - val_accuracy: 0.8061\n",
      "Epoch 6/20\n",
      "21/21 [==============================] - 1s 47ms/step - loss: 0.9329 - accuracy: 0.6732 - val_loss: 0.6476 - val_accuracy: 0.8333\n",
      "Epoch 7/20\n",
      "21/21 [==============================] - 1s 43ms/step - loss: 0.8041 - accuracy: 0.7202 - val_loss: 0.5532 - val_accuracy: 0.8545\n",
      "Epoch 8/20\n",
      "21/21 [==============================] - 1s 45ms/step - loss: 0.7197 - accuracy: 0.7437 - val_loss: 0.5787 - val_accuracy: 0.8424\n",
      "Epoch 9/20\n",
      "21/21 [==============================] - 1s 44ms/step - loss: 0.6449 - accuracy: 0.7763 - val_loss: 0.4893 - val_accuracy: 0.8636\n",
      "Epoch 10/20\n",
      "21/21 [==============================] - 1s 50ms/step - loss: 0.6031 - accuracy: 0.7748 - val_loss: 0.4942 - val_accuracy: 0.8636\n",
      "Epoch 11/20\n",
      "21/21 [==============================] - 1s 50ms/step - loss: 0.5720 - accuracy: 0.7991 - val_loss: 0.4709 - val_accuracy: 0.8727\n",
      "Epoch 12/20\n",
      "21/21 [==============================] - 1s 46ms/step - loss: 0.5241 - accuracy: 0.8097 - val_loss: 0.4451 - val_accuracy: 0.8879\n",
      "Epoch 13/20\n",
      "21/21 [==============================] - 1s 43ms/step - loss: 0.4606 - accuracy: 0.8256 - val_loss: 0.4201 - val_accuracy: 0.8818\n",
      "Epoch 14/20\n",
      "21/21 [==============================] - 1s 46ms/step - loss: 0.4779 - accuracy: 0.8173 - val_loss: 0.4394 - val_accuracy: 0.8788\n",
      "Epoch 15/20\n",
      "21/21 [==============================] - 1s 50ms/step - loss: 0.4077 - accuracy: 0.8567 - val_loss: 0.4282 - val_accuracy: 0.8788\n",
      "Epoch 16/20\n",
      "21/21 [==============================] - 1s 48ms/step - loss: 0.3999 - accuracy: 0.8560 - val_loss: 0.4350 - val_accuracy: 0.8818\n",
      "Epoch 17/20\n",
      "21/21 [==============================] - 1s 44ms/step - loss: 0.4262 - accuracy: 0.8408 - val_loss: 0.4186 - val_accuracy: 0.8848\n",
      "Epoch 18/20\n",
      "21/21 [==============================] - 1s 47ms/step - loss: 0.3956 - accuracy: 0.8476 - val_loss: 0.4010 - val_accuracy: 0.8848\n",
      "Epoch 19/20\n",
      "21/21 [==============================] - 1s 53ms/step - loss: 0.3881 - accuracy: 0.8537 - val_loss: 0.4044 - val_accuracy: 0.8788\n",
      "Epoch 20/20\n",
      "21/21 [==============================] - 1s 53ms/step - loss: 0.3136 - accuracy: 0.8855 - val_loss: 0.4158 - val_accuracy: 0.8848\n",
      "13/13 [==============================] - 0s 9ms/step\n",
      "Precision: 0.8623953814685, Recall: 0.8547215496368039, F1 Score: 0.8550809776113781, Accuracy: 0.8547215461730957\n"
     ]
    }
   ],
   "source": [
    "import numpy as np\n",
    "from tensorflow.keras.models import Sequential\n",
    "from tensorflow.keras.layers import Conv2D, MaxPooling2D, Flatten, Dense, Dropout\n",
    "from tensorflow.keras.utils import to_categorical\n",
    "from sklearn.model_selection import train_test_split\n",
    "from sklearn.metrics import precision_score, recall_score, f1_score, accuracy_score\n",
    "from tensorflow.keras.preprocessing.image import ImageDataGenerator\n",
    "\n",
    "# Load the datasets\n",
    "X = np.load(\"dataset_fixed/X.npy\")\n",
    "Y = np.load(\"dataset_fixed/y.npy\")\n",
    "\n",
    "# Reshape X to have a single channel (grayscale images)\n",
    "X_reshaped = X.reshape(-1, 64, 64, 1)\n",
    "\n",
    "# Convert Y to categorical (one-hot encoding)\n",
    "Y_categorical = to_categorical(np.argmax(Y, axis=1))\n",
    "\n",
    "# Split the data into training and testing sets\n",
    "X_train, X_test, Y_train, Y_test = train_test_split(X_reshaped, Y_categorical, test_size=0.2, random_state=42)\n",
    "\n",
    "# CNN model architecture\n",
    "model = Sequential([\n",
    "    Conv2D(32, (3, 3), activation='relu', input_shape=(64, 64, 1)),\n",
    "    MaxPooling2D((2, 2)),\n",
    "    Conv2D(64, (3, 3), activation='relu'),\n",
    "    MaxPooling2D((2, 2)),\n",
    "    Flatten(),\n",
    "    Dense(64, activation='relu'),\n",
    "    Dropout(0.5),\n",
    "    Dense(Y_categorical.shape[1], activation='softmax')\n",
    "])\n",
    "\n",
    "# Compile the model\n",
    "model.compile(optimizer='adam', loss='categorical_crossentropy', metrics=['accuracy'])\n",
    "\n",
    "# Train the model\n",
    "model.fit(X_train, Y_train, epochs=20, batch_size=64, validation_split=0.2)\n",
    "\n",
    "# Evaluate the model on the test set\n",
    "loss, accuracy = model.evaluate(X_test, Y_test, verbose=0)\n",
    "\n",
    "# Make predictions with the model\n",
    "Y_pred = np.argmax(model.predict(X_test), axis=1)\n",
    "Y_true = np.argmax(Y_test, axis=1)\n",
    "\n",
    "# Calculate precision, recall, f1-score\n",
    "precision = precision_score(Y_true, Y_pred, average='weighted')\n",
    "recall = recall_score(Y_true, Y_pred, average='weighted')\n",
    "f1 = f1_score(Y_true, Y_pred, average='weighted')\n",
    "\n",
    "print(f\"Precision: {precision}, Recall: {recall}, F1 Score: {f1}, Accuracy: {accuracy}\")"
   ],
   "metadata": {
    "collapsed": false,
    "ExecuteTime": {
     "end_time": "2024-03-21T19:00:33.892752400Z",
     "start_time": "2024-03-21T19:00:12.388052200Z"
    }
   },
   "id": "7492041b98b33717"
  },
  {
   "cell_type": "code",
   "execution_count": null,
   "outputs": [],
   "source": [],
   "metadata": {
    "collapsed": false
   },
   "id": "ecb6b69bec35996f"
  }
 ],
 "metadata": {
  "kernelspec": {
   "display_name": "Python 3",
   "language": "python",
   "name": "python3"
  },
  "language_info": {
   "codemirror_mode": {
    "name": "ipython",
    "version": 2
   },
   "file_extension": ".py",
   "mimetype": "text/x-python",
   "name": "python",
   "nbconvert_exporter": "python",
   "pygments_lexer": "ipython2",
   "version": "2.7.6"
  }
 },
 "nbformat": 4,
 "nbformat_minor": 5
}
